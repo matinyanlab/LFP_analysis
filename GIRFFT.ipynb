{
 "cells": [
  {
   "cell_type": "code",
   "execution_count": 1,
   "metadata": {
    "collapsed": false
   },
   "outputs": [],
   "source": [
    "import numpy as np\n",
    "import pandas as pd\n",
    "from matplotlib import pyplot\n",
    "import matplotlib.pyplot as plt\n",
    "%matplotlib inline"
   ]
  },
  {
   "cell_type": "code",
   "execution_count": 2,
   "metadata": {
    "collapsed": false
   },
   "outputs": [],
   "source": [
    "d_t=pd.read_csv('GIRFFT.csv', sep='\\t')"
   ]
  },
  {
   "cell_type": "code",
   "execution_count": 3,
   "metadata": {
    "collapsed": true
   },
   "outputs": [],
   "source": [
    "d_n=d_t.iloc[:, 1:60]"
   ]
  },
  {
   "cell_type": "code",
   "execution_count": 7,
   "metadata": {
    "collapsed": false
   },
   "outputs": [],
   "source": [
    "d_N=d_t.iloc[:, 1:60]\n",
    "d_I=d_t.iloc[:, 61:120]"
   ]
  },
  {
   "cell_type": "code",
   "execution_count": 5,
   "metadata": {
    "collapsed": true
   },
   "outputs": [],
   "source": [
    "from sklearn.decomposition import PCA"
   ]
  },
  {
   "cell_type": "code",
   "execution_count": 6,
   "metadata": {
    "collapsed": true
   },
   "outputs": [],
   "source": [
    "from sklearn.preprocessing import StandardScaler\n",
    "scaler = StandardScaler()"
   ]
  },
  {
   "cell_type": "code",
   "execution_count": 9,
   "metadata": {
    "collapsed": true
   },
   "outputs": [],
   "source": [
    "\n",
    "X= StandardScaler().fit_transform(X)"
   ]
  },
  {
   "cell_type": "code",
   "execution_count": 8,
   "metadata": {
    "collapsed": true
   },
   "outputs": [],
   "source": [
    "X=np.concatenate((d_I, d_N), axis=0)"
   ]
  },
  {
   "cell_type": "code",
   "execution_count": 10,
   "metadata": {
    "collapsed": false
   },
   "outputs": [],
   "source": [
    "pca=PCA(n_components=30)\n",
    "PCA_X=pca.fit_transform(X)"
   ]
  },
  {
   "cell_type": "code",
   "execution_count": 10,
   "metadata": {
    "collapsed": false
   },
   "outputs": [
    {
     "data": {
      "text/plain": [
       "(30, 59)"
      ]
     },
     "execution_count": 10,
     "metadata": {},
     "output_type": "execute_result"
    }
   ],
   "source": [
    "pca.components_.shape"
   ]
  },
  {
   "cell_type": "code",
   "execution_count": 11,
   "metadata": {
    "collapsed": true
   },
   "outputs": [],
   "source": [
    "x_pca=pca.transform(X)"
   ]
  },
  {
   "cell_type": "code",
   "execution_count": 45,
   "metadata": {
    "collapsed": false
   },
   "outputs": [
    {
     "data": {
      "text/plain": [
       "<matplotlib.collections.PathCollection at 0x1ba70b87b38>"
      ]
     },
     "execution_count": 45,
     "metadata": {},
     "output_type": "execute_result"
    },
    {
     "data": {
      "image/png": "[encoded data removed]",
      "text/plain": [
       "<matplotlib.figure.Figure at 0x1ba708170f0>"
      ]
     },
     "metadata": {},
     "output_type": "display_data"
    }
   ],
   "source": [
    "plt.figure(figsize=(8,6))\n",
    "plt.scatter(x_pca[:,0], x_pca[:,1], c=y, cmap='plasma')"
   ]
  },
  {
   "cell_type": "code",
   "execution_count": 30,
   "metadata": {
    "collapsed": false
   },
   "outputs": [
    {
     "data": {
      "text/html": [
       "<div>\n",
       "<style>\n",
       "    .dataframe thead tr:only-child th {\n",
       "        text-align: right;\n",
       "    }\n",
       "\n",
       "    .dataframe thead th {\n",
       "        text-align: left;\n",
       "    }\n",
       "\n",
       "    .dataframe tbody tr th {\n",
       "        vertical-align: top;\n",
       "    }\n",
       "</style>\n",
       "<table border=\"1\" class=\"dataframe\">\n",
       "  <thead>\n",
       "    <tr style=\"text-align: right;\">\n",
       "      <th></th>\n",
       "      <th>AmplitudeRMSSquare</th>\n",
       "      <th>AmplitudeRMSSquare1</th>\n",
       "      <th>AmplitudeRMSSquare2</th>\n",
       "      <th>AmplitudeRMSSquare3</th>\n",
       "      <th>AmplitudeRMSSquare4</th>\n",
       "      <th>AmplitudeRMSSquare5</th>\n",
       "      <th>AmplitudeRMSSquare6</th>\n",
       "      <th>AmplitudeRMSSquare7</th>\n",
       "      <th>AmplitudeRMSSquare8</th>\n",
       "      <th>AmplitudeRMSSquare9</th>\n",
       "      <th>...</th>\n",
       "      <th>AmplitudeRMSSquare49</th>\n",
       "      <th>AmplitudeRMSSquare50</th>\n",
       "      <th>AmplitudeRMSSquare51</th>\n",
       "      <th>AmplitudeRMSSquare52</th>\n",
       "      <th>AmplitudeRMSSquare53</th>\n",
       "      <th>AmplitudeRMSSquare54</th>\n",
       "      <th>AmplitudeRMSSquare55</th>\n",
       "      <th>AmplitudeRMSSquare56</th>\n",
       "      <th>AmplitudeRMSSquare57</th>\n",
       "      <th>AmplitudeRMSSquare58</th>\n",
       "    </tr>\n",
       "  </thead>\n",
       "  <tbody>\n",
       "    <tr>\n",
       "      <th>0</th>\n",
       "      <td>0.125402</td>\n",
       "      <td>0.133392</td>\n",
       "      <td>0.126629</td>\n",
       "      <td>0.122460</td>\n",
       "      <td>0.143503</td>\n",
       "      <td>0.137374</td>\n",
       "      <td>0.132796</td>\n",
       "      <td>0.128662</td>\n",
       "      <td>0.107412</td>\n",
       "      <td>0.123950</td>\n",
       "      <td>...</td>\n",
       "      <td>0.140910</td>\n",
       "      <td>0.132449</td>\n",
       "      <td>0.135238</td>\n",
       "      <td>0.134793</td>\n",
       "      <td>0.122162</td>\n",
       "      <td>0.135131</td>\n",
       "      <td>0.112335</td>\n",
       "      <td>0.131005</td>\n",
       "      <td>0.132005</td>\n",
       "      <td>0.125792</td>\n",
       "    </tr>\n",
       "    <tr>\n",
       "      <th>1</th>\n",
       "      <td>-0.247240</td>\n",
       "      <td>0.192878</td>\n",
       "      <td>0.074716</td>\n",
       "      <td>0.065019</td>\n",
       "      <td>-0.058411</td>\n",
       "      <td>0.135615</td>\n",
       "      <td>-0.176815</td>\n",
       "      <td>0.054654</td>\n",
       "      <td>-0.048849</td>\n",
       "      <td>-0.231388</td>\n",
       "      <td>...</td>\n",
       "      <td>-0.121946</td>\n",
       "      <td>0.013697</td>\n",
       "      <td>0.195405</td>\n",
       "      <td>0.119372</td>\n",
       "      <td>-0.028357</td>\n",
       "      <td>0.066558</td>\n",
       "      <td>-0.111093</td>\n",
       "      <td>0.081466</td>\n",
       "      <td>-0.025752</td>\n",
       "      <td>-0.081422</td>\n",
       "    </tr>\n",
       "    <tr>\n",
       "      <th>2</th>\n",
       "      <td>0.034134</td>\n",
       "      <td>0.088244</td>\n",
       "      <td>0.169573</td>\n",
       "      <td>0.193865</td>\n",
       "      <td>0.005599</td>\n",
       "      <td>-0.046585</td>\n",
       "      <td>0.124774</td>\n",
       "      <td>-0.079627</td>\n",
       "      <td>-0.129571</td>\n",
       "      <td>0.021720</td>\n",
       "      <td>...</td>\n",
       "      <td>0.098237</td>\n",
       "      <td>0.222552</td>\n",
       "      <td>0.116813</td>\n",
       "      <td>0.028977</td>\n",
       "      <td>0.269972</td>\n",
       "      <td>-0.159232</td>\n",
       "      <td>-0.013537</td>\n",
       "      <td>-0.129256</td>\n",
       "      <td>0.132962</td>\n",
       "      <td>0.253911</td>\n",
       "    </tr>\n",
       "    <tr>\n",
       "      <th>3</th>\n",
       "      <td>0.033000</td>\n",
       "      <td>-0.063808</td>\n",
       "      <td>-0.196273</td>\n",
       "      <td>-0.160225</td>\n",
       "      <td>0.084942</td>\n",
       "      <td>-0.106214</td>\n",
       "      <td>0.076289</td>\n",
       "      <td>-0.147282</td>\n",
       "      <td>-0.360012</td>\n",
       "      <td>-0.047088</td>\n",
       "      <td>...</td>\n",
       "      <td>0.028255</td>\n",
       "      <td>-0.035404</td>\n",
       "      <td>-0.028813</td>\n",
       "      <td>0.082088</td>\n",
       "      <td>-0.152761</td>\n",
       "      <td>-0.006654</td>\n",
       "      <td>-0.253122</td>\n",
       "      <td>-0.136306</td>\n",
       "      <td>0.062939</td>\n",
       "      <td>-0.003263</td>\n",
       "    </tr>\n",
       "    <tr>\n",
       "      <th>4</th>\n",
       "      <td>0.180078</td>\n",
       "      <td>-0.003622</td>\n",
       "      <td>0.081472</td>\n",
       "      <td>-0.079744</td>\n",
       "      <td>0.048946</td>\n",
       "      <td>0.034161</td>\n",
       "      <td>-0.017528</td>\n",
       "      <td>0.269764</td>\n",
       "      <td>0.033077</td>\n",
       "      <td>0.062316</td>\n",
       "      <td>...</td>\n",
       "      <td>0.168963</td>\n",
       "      <td>0.135516</td>\n",
       "      <td>0.041186</td>\n",
       "      <td>-0.090134</td>\n",
       "      <td>0.095326</td>\n",
       "      <td>-0.009096</td>\n",
       "      <td>-0.003073</td>\n",
       "      <td>0.044762</td>\n",
       "      <td>-0.195859</td>\n",
       "      <td>-0.022323</td>\n",
       "    </tr>\n",
       "  </tbody>\n",
       "</table>\n",
       "<p>5 rows × 59 columns</p>\n",
       "</div>"
      ],
      "text/plain": [
       "   AmplitudeRMSSquare  AmplitudeRMSSquare1  AmplitudeRMSSquare2  \\\n",
       "0            0.125402             0.133392             0.126629   \n",
       "1           -0.247240             0.192878             0.074716   \n",
       "2            0.034134             0.088244             0.169573   \n",
       "3            0.033000            -0.063808            -0.196273   \n",
       "4            0.180078            -0.003622             0.081472   \n",
       "\n",
       "   AmplitudeRMSSquare3  AmplitudeRMSSquare4  AmplitudeRMSSquare5  \\\n",
       "0             0.122460             0.143503             0.137374   \n",
       "1             0.065019            -0.058411             0.135615   \n",
       "2             0.193865             0.005599            -0.046585   \n",
       "3            -0.160225             0.084942            -0.106214   \n",
       "4            -0.079744             0.048946             0.034161   \n",
       "\n",
       "   AmplitudeRMSSquare6  AmplitudeRMSSquare7  AmplitudeRMSSquare8  \\\n",
       "0             0.132796             0.128662             0.107412   \n",
       "1            -0.176815             0.054654            -0.048849   \n",
       "2             0.124774            -0.079627            -0.129571   \n",
       "3             0.076289            -0.147282            -0.360012   \n",
       "4            -0.017528             0.269764             0.033077   \n",
       "\n",
       "   AmplitudeRMSSquare9          ...           AmplitudeRMSSquare49  \\\n",
       "0             0.123950          ...                       0.140910   \n",
       "1            -0.231388          ...                      -0.121946   \n",
       "2             0.021720          ...                       0.098237   \n",
       "3            -0.047088          ...                       0.028255   \n",
       "4             0.062316          ...                       0.168963   \n",
       "\n",
       "   AmplitudeRMSSquare50  AmplitudeRMSSquare51  AmplitudeRMSSquare52  \\\n",
       "0              0.132449              0.135238              0.134793   \n",
       "1              0.013697              0.195405              0.119372   \n",
       "2              0.222552              0.116813              0.028977   \n",
       "3             -0.035404             -0.028813              0.082088   \n",
       "4              0.135516              0.041186             -0.090134   \n",
       "\n",
       "   AmplitudeRMSSquare53  AmplitudeRMSSquare54  AmplitudeRMSSquare55  \\\n",
       "0              0.122162              0.135131              0.112335   \n",
       "1             -0.028357              0.066558             -0.111093   \n",
       "2              0.269972             -0.159232             -0.013537   \n",
       "3             -0.152761             -0.006654             -0.253122   \n",
       "4              0.095326             -0.009096             -0.003073   \n",
       "\n",
       "   AmplitudeRMSSquare56  AmplitudeRMSSquare57  AmplitudeRMSSquare58  \n",
       "0              0.131005              0.132005              0.125792  \n",
       "1              0.081466             -0.025752             -0.081422  \n",
       "2             -0.129256              0.132962              0.253911  \n",
       "3             -0.136306              0.062939             -0.003263  \n",
       "4              0.044762             -0.195859             -0.022323  \n",
       "\n",
       "[5 rows x 59 columns]"
      ]
     },
     "execution_count": 30,
     "metadata": {},
     "output_type": "execute_result"
    }
   ],
   "source": [
    "df_comp=pd.DataFrame(pca.components_, columns=list(d_n.columns.values))\n",
    "df_comp.head()"
   ]
  },
  {
   "cell_type": "code",
   "execution_count": 31,
   "metadata": {
    "collapsed": true
   },
   "outputs": [],
   "source": [
    "import seaborn as sns"
   ]
  },
  {
   "cell_type": "code",
   "execution_count": 32,
   "metadata": {
    "collapsed": false
   },
   "outputs": [
    {
     "data": {
      "text/plain": [
       "<matplotlib.axes._subplots.AxesSubplot at 0x1ba6ff6b7b8>"
      ]
     },
     "execution_count": 32,
     "metadata": {},
     "output_type": "execute_result"
    },
    {
     "data": {
      "image/png": "[encoded data removed]",
      "text/plain": [
       "<matplotlib.figure.Figure at 0x1ba6ff38d68>"
      ]
     },
     "metadata": {},
     "output_type": "display_data"
    }
   ],
   "source": [
    "plt.figure(figsize=(22,16))\n",
    "sns.heatmap(df_comp, cmap='plasma')"
   ]
  },
  {
   "cell_type": "code",
   "execution_count": 8,
   "metadata": {
    "collapsed": true
   },
   "outputs": [],
   "source": [
    "X=np.concatenate((PCA_N, PCA_I), axis=0)"
   ]
  },
  {
   "cell_type": "code",
   "execution_count": 11,
   "metadata": {
    "collapsed": true
   },
   "outputs": [],
   "source": [
    "a=np.array(['Normal']*10000)\n",
    "b=np.array(['Ischemic']*10000)\n",
    "y=np.concatenate((a,b), axis=0)"
   ]
  },
  {
   "cell_type": "code",
   "execution_count": 12,
   "metadata": {
    "collapsed": true
   },
   "outputs": [],
   "source": [
    "from sklearn.model_selection import train_test_split"
   ]
  },
  {
   "cell_type": "code",
   "execution_count": 13,
   "metadata": {
    "collapsed": false
   },
   "outputs": [],
   "source": [
    "train_X, test_X, train_y, test_y = train_test_split(PCA_X, y, \n",
    "                                                    train_size=0.8,\n",
    "                                                    test_size=0.2,\n",
    "                                                    random_state=42)"
   ]
  },
  {
   "cell_type": "code",
   "execution_count": 14,
   "metadata": {
    "collapsed": true
   },
   "outputs": [],
   "source": [
    "from sklearn.svm import SVC"
   ]
  },
  {
   "cell_type": "code",
   "execution_count": 15,
   "metadata": {
    "collapsed": false
   },
   "outputs": [
    {
     "data": {
      "text/plain": [
       "SVC(C=1.0, cache_size=200, class_weight=None, coef0=0.0,\n",
       "  decision_function_shape='ovr', degree=3, gamma='auto', kernel='rbf',\n",
       "  max_iter=-1, probability=False, random_state=None, shrinking=True,\n",
       "  tol=0.001, verbose=False)"
      ]
     },
     "execution_count": 15,
     "metadata": {},
     "output_type": "execute_result"
    }
   ],
   "source": [
    "svclassifier = SVC(kernel='rbf')  \n",
    "svclassifier.fit(train_X, train_y)  "
   ]
  },
  {
   "cell_type": "code",
   "execution_count": 16,
   "metadata": {
    "collapsed": true
   },
   "outputs": [],
   "source": [
    "pred_y = svclassifier.predict(test_X)  "
   ]
  },
  {
   "cell_type": "code",
   "execution_count": 17,
   "metadata": {
    "collapsed": true
   },
   "outputs": [],
   "source": [
    "from sklearn.metrics import accuracy_score, f1_score, precision_score, recall_score, classification_report, confusion_matrix"
   ]
  },
  {
   "cell_type": "code",
   "execution_count": 19,
   "metadata": {
    "collapsed": false
   },
   "outputs": [
    {
     "name": "stdout",
     "output_type": "stream",
     "text": [
      "0.4955\n",
      "             precision    recall  f1-score   support\n",
      "\n",
      "   Ischemic       0.50      1.00      0.66      1981\n",
      "     Normal       0.60      0.00      0.00      2019\n",
      "\n",
      "avg / total       0.55      0.50      0.33      4000\n",
      "\n"
     ]
    }
   ],
   "source": [
    "print(accuracy_score(test_y, pred_y))\n",
    "print(classification_report(test_y, pred_y))"
   ]
  },
  {
   "cell_type": "code",
   "execution_count": null,
   "metadata": {
    "collapsed": true
   },
   "outputs": [],
   "source": [
    "d_X = X[:, :2] \n",
    "\n",
    "def make_meshgrid(x, y, h=.02):\n",
    "    x_min, x_max = x.min() - 1, x.max() + 1\n",
    "    y_min, y_max = y.min() - 1, y.max() + 1\n",
    "    xx, yy = np.meshgrid(np.arange(x_min, x_max, h), np.arange(y_min, y_max, h))\n",
    "    return xx, yy\n",
    "\n",
    "def plot_contours(ax, clf, xx, yy, **params):\n",
    "    Z = clf.predict(np.c_[xx.ravel(), yy.ravel()])\n",
    "    Z = Z.reshape(xx.shape)\n",
    "    out = ax.contourf(xx, yy, Z, **params)\n",
    "    return out\n",
    "\n",
    "model = svm.SVC(kernel='rbf')\n",
    "clf = model.fit(d_X, d_y)\n",
    "\n",
    "fig, ax = plt.subplots()\n",
    "# title for the plots\n",
    "title = ('Decision surface of SVC ')\n",
    "X0, X1 = X[:, 0], X[:, 1]\n",
    "xx, yy = make_meshgrid(X0, X1)\n",
    "\n",
    "plot_contours(ax, clf, xx, yy, cmap=plt.cm.coolwarm, alpha=0.8)\n",
    "ax.scatter(X0, X1, c=y, cmap=plt.cm.coolwarm, s=20, edgecolors='k')\n",
    "ax.set_ylabel('Feature1')\n",
    "ax.set_xlabel('Feature')\n",
    "ax.set_xticks(())\n",
    "ax.set_yticks(())\n",
    "ax.set_title(title)\n",
    "ax.legend()\n",
    "plt.show()"
   ]
  }
 ],
 "metadata": {
  "kernelspec": {
   "display_name": "Python (other-env)",
   "language": "python",
   "name": "other-env"
  },
  "language_info": {
   "codemirror_mode": {
    "name": "ipython",
    "version": 3
   },
   "file_extension": ".py",
   "mimetype": "text/x-python",
   "name": "python",
   "nbconvert_exporter": "python",
   "pygments_lexer": "ipython3",
   "version": "3.5.4"
  }
 },
 "nbformat": 4,
 "nbformat_minor": 2
}
